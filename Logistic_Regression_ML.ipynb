{
  "nbformat": 4,
  "nbformat_minor": 0,
  "metadata": {
    "colab": {
      "provenance": [],
      "mount_file_id": "1lCaIhxh0xELFBqk5nBLduhKaEhpIGUpp",
      "authorship_tag": "ABX9TyNPbEs2FJegqtIE3D+CKrwT",
      "include_colab_link": true
    },
    "kernelspec": {
      "name": "python3",
      "display_name": "Python 3"
    },
    "language_info": {
      "name": "python"
    }
  },
  "cells": [
    {
      "cell_type": "markdown",
      "metadata": {
        "id": "view-in-github",
        "colab_type": "text"
      },
      "source": [
        "<a href=\"https://colab.research.google.com/github/AniB007/Logistic-Regression/blob/main/Logistic_Regression_ML.ipynb\" target=\"_parent\"><img src=\"https://colab.research.google.com/assets/colab-badge.svg\" alt=\"Open In Colab\"/></a>"
      ]
    },
    {
      "cell_type": "markdown",
      "source": [
        "**Problem Statement : Titanic: Predicting Survival using Supervised Learning**\n"
      ],
      "metadata": {
        "id": "bqWtxVdH9yC_"
      }
    },
    {
      "cell_type": "markdown",
      "source": [
        "Titanic Dataset Description\n",
        "\n",
        "![titanic dataset description.png](data:image/png;base64,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)"
      ],
      "metadata": {
        "id": "lp3CZUy-YZIz"
      }
    },
    {
      "cell_type": "code",
      "source": [
        "# Importing Required Libraries\n",
        "import numpy as np\n",
        "import pandas as pd\n",
        "import seaborn as sns\n",
        "sns.set()\n",
        "import matplotlib.pyplot as plt\n",
        "from sklearn.linear_model import LogisticRegression\n",
        "from sklearn.model_selection import train_test_split\n",
        "from sklearn.metrics import accuracy_score\n",
        "from sklearn.metrics import confusion_matrix\n",
        "from sklearn.metrics import f1_score"
      ],
      "metadata": {
        "id": "0P9DDVQvYmlH"
      },
      "execution_count": null,
      "outputs": []
    },
    {
      "cell_type": "code",
      "source": [
        "# Loading Titanic survival dataset fron seaborn\n",
        "df = sns.load_dataset('titanic')"
      ],
      "metadata": {
        "id": "Dfe3uMNBZw1K"
      },
      "execution_count": null,
      "outputs": []
    },
    {
      "cell_type": "code",
      "source": [
        "# First View of dataset\n",
        "df"
      ],
      "metadata": {
        "colab": {
          "base_uri": "https://localhost:8080/",
          "height": 424
        },
        "id": "2LRsNg5u-CrU",
        "outputId": "2ddb5f50-288f-42e7-83a2-c8c342bb6fe4"
      },
      "execution_count": null,
      "outputs": [
        {
          "output_type": "execute_result",
          "data": {
            "text/plain": [
              "     survived  pclass     sex   age  sibsp  parch     fare embarked   class  \\\n",
              "0           0       3    male  22.0      1      0   7.2500        S   Third   \n",
              "1           1       1  female  38.0      1      0  71.2833        C   First   \n",
              "2           1       3  female  26.0      0      0   7.9250        S   Third   \n",
              "3           1       1  female  35.0      1      0  53.1000        S   First   \n",
              "4           0       3    male  35.0      0      0   8.0500        S   Third   \n",
              "..        ...     ...     ...   ...    ...    ...      ...      ...     ...   \n",
              "886         0       2    male  27.0      0      0  13.0000        S  Second   \n",
              "887         1       1  female  19.0      0      0  30.0000        S   First   \n",
              "888         0       3  female   NaN      1      2  23.4500        S   Third   \n",
              "889         1       1    male  26.0      0      0  30.0000        C   First   \n",
              "890         0       3    male  32.0      0      0   7.7500        Q   Third   \n",
              "\n",
              "       who  adult_male deck  embark_town alive  alone  \n",
              "0      man        True  NaN  Southampton    no  False  \n",
              "1    woman       False    C    Cherbourg   yes  False  \n",
              "2    woman       False  NaN  Southampton   yes   True  \n",
              "3    woman       False    C  Southampton   yes  False  \n",
              "4      man        True  NaN  Southampton    no   True  \n",
              "..     ...         ...  ...          ...   ...    ...  \n",
              "886    man        True  NaN  Southampton    no   True  \n",
              "887  woman       False    B  Southampton   yes   True  \n",
              "888  woman       False  NaN  Southampton    no  False  \n",
              "889    man        True    C    Cherbourg   yes   True  \n",
              "890    man        True  NaN   Queenstown    no   True  \n",
              "\n",
              "[891 rows x 15 columns]"
            ],
            "text/html": [
              "\n",
              "  <div id=\"df-f93e9e78-278f-4bca-a4f6-07be94616537\" class=\"colab-df-container\">\n",
              "    <div>\n",
              "<style scoped>\n",
              "    .dataframe tbody tr th:only-of-type {\n",
              "        vertical-align: middle;\n",
              "    }\n",
              "\n",
              "    .dataframe tbody tr th {\n",
              "        vertical-align: top;\n",
              "    }\n",
              "\n",
              "    .dataframe thead th {\n",
              "        text-align: right;\n",
              "    }\n",
              "</style>\n",
              "<table border=\"1\" class=\"dataframe\">\n",
              "  <thead>\n",
              "    <tr style=\"text-align: right;\">\n",
              "      <th></th>\n",
              "      <th>survived</th>\n",
              "      <th>pclass</th>\n",
              "      <th>sex</th>\n",
              "      <th>age</th>\n",
              "      <th>sibsp</th>\n",
              "      <th>parch</th>\n",
              "      <th>fare</th>\n",
              "      <th>embarked</th>\n",
              "      <th>class</th>\n",
              "      <th>who</th>\n",
              "      <th>adult_male</th>\n",
              "      <th>deck</th>\n",
              "      <th>embark_town</th>\n",
              "      <th>alive</th>\n",
              "      <th>alone</th>\n",
              "    </tr>\n",
              "  </thead>\n",
              "  <tbody>\n",
              "    <tr>\n",
              "      <th>0</th>\n",
              "      <td>0</td>\n",
              "      <td>3</td>\n",
              "      <td>male</td>\n",
              "      <td>22.0</td>\n",
              "      <td>1</td>\n",
              "      <td>0</td>\n",
              "      <td>7.2500</td>\n",
              "      <td>S</td>\n",
              "      <td>Third</td>\n",
              "      <td>man</td>\n",
              "      <td>True</td>\n",
              "      <td>NaN</td>\n",
              "      <td>Southampton</td>\n",
              "      <td>no</td>\n",
              "      <td>False</td>\n",
              "    </tr>\n",
              "    <tr>\n",
              "      <th>1</th>\n",
              "      <td>1</td>\n",
              "      <td>1</td>\n",
              "      <td>female</td>\n",
              "      <td>38.0</td>\n",
              "      <td>1</td>\n",
              "      <td>0</td>\n",
              "      <td>71.2833</td>\n",
              "      <td>C</td>\n",
              "      <td>First</td>\n",
              "      <td>woman</td>\n",
              "      <td>False</td>\n",
              "      <td>C</td>\n",
              "      <td>Cherbourg</td>\n",
              "      <td>yes</td>\n",
              "      <td>False</td>\n",
              "    </tr>\n",
              "    <tr>\n",
              "      <th>2</th>\n",
              "      <td>1</td>\n",
              "      <td>3</td>\n",
              "      <td>female</td>\n",
              "      <td>26.0</td>\n",
              "      <td>0</td>\n",
              "      <td>0</td>\n",
              "      <td>7.9250</td>\n",
              "      <td>S</td>\n",
              "      <td>Third</td>\n",
              "      <td>woman</td>\n",
              "      <td>False</td>\n",
              "      <td>NaN</td>\n",
              "      <td>Southampton</td>\n",
              "      <td>yes</td>\n",
              "      <td>True</td>\n",
              "    </tr>\n",
              "    <tr>\n",
              "      <th>3</th>\n",
              "      <td>1</td>\n",
              "      <td>1</td>\n",
              "      <td>female</td>\n",
              "      <td>35.0</td>\n",
              "      <td>1</td>\n",
              "      <td>0</td>\n",
              "      <td>53.1000</td>\n",
              "      <td>S</td>\n",
              "      <td>First</td>\n",
              "      <td>woman</td>\n",
              "      <td>False</td>\n",
              "      <td>C</td>\n",
              "      <td>Southampton</td>\n",
              "      <td>yes</td>\n",
              "      <td>False</td>\n",
              "    </tr>\n",
              "    <tr>\n",
              "      <th>4</th>\n",
              "      <td>0</td>\n",
              "      <td>3</td>\n",
              "      <td>male</td>\n",
              "      <td>35.0</td>\n",
              "      <td>0</td>\n",
              "      <td>0</td>\n",
              "      <td>8.0500</td>\n",
              "      <td>S</td>\n",
              "      <td>Third</td>\n",
              "      <td>man</td>\n",
              "      <td>True</td>\n",
              "      <td>NaN</td>\n",
              "      <td>Southampton</td>\n",
              "      <td>no</td>\n",
              "      <td>True</td>\n",
              "    </tr>\n",
              "    <tr>\n",
              "      <th>...</th>\n",
              "      <td>...</td>\n",
              "      <td>...</td>\n",
              "      <td>...</td>\n",
              "      <td>...</td>\n",
              "      <td>...</td>\n",
              "      <td>...</td>\n",
              "      <td>...</td>\n",
              "      <td>...</td>\n",
              "      <td>...</td>\n",
              "      <td>...</td>\n",
              "      <td>...</td>\n",
              "      <td>...</td>\n",
              "      <td>...</td>\n",
              "      <td>...</td>\n",
              "      <td>...</td>\n",
              "    </tr>\n",
              "    <tr>\n",
              "      <th>886</th>\n",
              "      <td>0</td>\n",
              "      <td>2</td>\n",
              "      <td>male</td>\n",
              "      <td>27.0</td>\n",
              "      <td>0</td>\n",
              "      <td>0</td>\n",
              "      <td>13.0000</td>\n",
              "      <td>S</td>\n",
              "      <td>Second</td>\n",
              "      <td>man</td>\n",
              "      <td>True</td>\n",
              "      <td>NaN</td>\n",
              "      <td>Southampton</td>\n",
              "      <td>no</td>\n",
              "      <td>True</td>\n",
              "    </tr>\n",
              "    <tr>\n",
              "      <th>887</th>\n",
              "      <td>1</td>\n",
              "      <td>1</td>\n",
              "      <td>female</td>\n",
              "      <td>19.0</td>\n",
              "      <td>0</td>\n",
              "      <td>0</td>\n",
              "      <td>30.0000</td>\n",
              "      <td>S</td>\n",
              "      <td>First</td>\n",
              "      <td>woman</td>\n",
              "      <td>False</td>\n",
              "      <td>B</td>\n",
              "      <td>Southampton</td>\n",
              "      <td>yes</td>\n",
              "      <td>True</td>\n",
              "    </tr>\n",
              "    <tr>\n",
              "      <th>888</th>\n",
              "      <td>0</td>\n",
              "      <td>3</td>\n",
              "      <td>female</td>\n",
              "      <td>NaN</td>\n",
              "      <td>1</td>\n",
              "      <td>2</td>\n",
              "      <td>23.4500</td>\n",
              "      <td>S</td>\n",
              "      <td>Third</td>\n",
              "      <td>woman</td>\n",
              "      <td>False</td>\n",
              "      <td>NaN</td>\n",
              "      <td>Southampton</td>\n",
              "      <td>no</td>\n",
              "      <td>False</td>\n",
              "    </tr>\n",
              "    <tr>\n",
              "      <th>889</th>\n",
              "      <td>1</td>\n",
              "      <td>1</td>\n",
              "      <td>male</td>\n",
              "      <td>26.0</td>\n",
              "      <td>0</td>\n",
              "      <td>0</td>\n",
              "      <td>30.0000</td>\n",
              "      <td>C</td>\n",
              "      <td>First</td>\n",
              "      <td>man</td>\n",
              "      <td>True</td>\n",
              "      <td>C</td>\n",
              "      <td>Cherbourg</td>\n",
              "      <td>yes</td>\n",
              "      <td>True</td>\n",
              "    </tr>\n",
              "    <tr>\n",
              "      <th>890</th>\n",
              "      <td>0</td>\n",
              "      <td>3</td>\n",
              "      <td>male</td>\n",
              "      <td>32.0</td>\n",
              "      <td>0</td>\n",
              "      <td>0</td>\n",
              "      <td>7.7500</td>\n",
              "      <td>Q</td>\n",
              "      <td>Third</td>\n",
              "      <td>man</td>\n",
              "      <td>True</td>\n",
              "      <td>NaN</td>\n",
              "      <td>Queenstown</td>\n",
              "      <td>no</td>\n",
              "      <td>True</td>\n",
              "    </tr>\n",
              "  </tbody>\n",
              "</table>\n",
              "<p>891 rows × 15 columns</p>\n",
              "</div>\n",
              "    <div class=\"colab-df-buttons\">\n",
              "\n",
              "  <div class=\"colab-df-container\">\n",
              "    <button class=\"colab-df-convert\" onclick=\"convertToInteractive('df-f93e9e78-278f-4bca-a4f6-07be94616537')\"\n",
              "            title=\"Convert this dataframe to an interactive table.\"\n",
              "            style=\"display:none;\">\n",
              "\n",
              "  <svg xmlns=\"http://www.w3.org/2000/svg\" height=\"24px\" viewBox=\"0 -960 960 960\">\n",
              "    <path d=\"M120-120v-720h720v720H120Zm60-500h600v-160H180v160Zm220 220h160v-160H400v160Zm0 220h160v-160H400v160ZM180-400h160v-160H180v160Zm440 0h160v-160H620v160ZM180-180h160v-160H180v160Zm440 0h160v-160H620v160Z\"/>\n",
              "  </svg>\n",
              "    </button>\n",
              "\n",
              "  <style>\n",
              "    .colab-df-container {\n",
              "      display:flex;\n",
              "      gap: 12px;\n",
              "    }\n",
              "\n",
              "    .colab-df-convert {\n",
              "      background-color: #E8F0FE;\n",
              "      border: none;\n",
              "      border-radius: 50%;\n",
              "      cursor: pointer;\n",
              "      display: none;\n",
              "      fill: #1967D2;\n",
              "      height: 32px;\n",
              "      padding: 0 0 0 0;\n",
              "      width: 32px;\n",
              "    }\n",
              "\n",
              "    .colab-df-convert:hover {\n",
              "      background-color: #E2EBFA;\n",
              "      box-shadow: 0px 1px 2px rgba(60, 64, 67, 0.3), 0px 1px 3px 1px rgba(60, 64, 67, 0.15);\n",
              "      fill: #174EA6;\n",
              "    }\n",
              "\n",
              "    .colab-df-buttons div {\n",
              "      margin-bottom: 4px;\n",
              "    }\n",
              "\n",
              "    [theme=dark] .colab-df-convert {\n",
              "      background-color: #3B4455;\n",
              "      fill: #D2E3FC;\n",
              "    }\n",
              "\n",
              "    [theme=dark] .colab-df-convert:hover {\n",
              "      background-color: #434B5C;\n",
              "      box-shadow: 0px 1px 3px 1px rgba(0, 0, 0, 0.15);\n",
              "      filter: drop-shadow(0px 1px 2px rgba(0, 0, 0, 0.3));\n",
              "      fill: #FFFFFF;\n",
              "    }\n",
              "  </style>\n",
              "\n",
              "    <script>\n",
              "      const buttonEl =\n",
              "        document.querySelector('#df-f93e9e78-278f-4bca-a4f6-07be94616537 button.colab-df-convert');\n",
              "      buttonEl.style.display =\n",
              "        google.colab.kernel.accessAllowed ? 'block' : 'none';\n",
              "\n",
              "      async function convertToInteractive(key) {\n",
              "        const element = document.querySelector('#df-f93e9e78-278f-4bca-a4f6-07be94616537');\n",
              "        const dataTable =\n",
              "          await google.colab.kernel.invokeFunction('convertToInteractive',\n",
              "                                                    [key], {});\n",
              "        if (!dataTable) return;\n",
              "\n",
              "        const docLinkHtml = 'Like what you see? Visit the ' +\n",
              "          '<a target=\"_blank\" href=https://colab.research.google.com/notebooks/data_table.ipynb>data table notebook</a>'\n",
              "          + ' to learn more about interactive tables.';\n",
              "        element.innerHTML = '';\n",
              "        dataTable['output_type'] = 'display_data';\n",
              "        await google.colab.output.renderOutput(dataTable, element);\n",
              "        const docLink = document.createElement('div');\n",
              "        docLink.innerHTML = docLinkHtml;\n",
              "        element.appendChild(docLink);\n",
              "      }\n",
              "    </script>\n",
              "  </div>\n",
              "\n",
              "\n",
              "<div id=\"df-62177d8e-39ad-4e01-864b-985e5885504b\">\n",
              "  <button class=\"colab-df-quickchart\" onclick=\"quickchart('df-62177d8e-39ad-4e01-864b-985e5885504b')\"\n",
              "            title=\"Suggest charts\"\n",
              "            style=\"display:none;\">\n",
              "\n",
              "<svg xmlns=\"http://www.w3.org/2000/svg\" height=\"24px\"viewBox=\"0 0 24 24\"\n",
              "     width=\"24px\">\n",
              "    <g>\n",
              "        <path d=\"M19 3H5c-1.1 0-2 .9-2 2v14c0 1.1.9 2 2 2h14c1.1 0 2-.9 2-2V5c0-1.1-.9-2-2-2zM9 17H7v-7h2v7zm4 0h-2V7h2v10zm4 0h-2v-4h2v4z\"/>\n",
              "    </g>\n",
              "</svg>\n",
              "  </button>\n",
              "\n",
              "<style>\n",
              "  .colab-df-quickchart {\n",
              "      --bg-color: #E8F0FE;\n",
              "      --fill-color: #1967D2;\n",
              "      --hover-bg-color: #E2EBFA;\n",
              "      --hover-fill-color: #174EA6;\n",
              "      --disabled-fill-color: #AAA;\n",
              "      --disabled-bg-color: #DDD;\n",
              "  }\n",
              "\n",
              "  [theme=dark] .colab-df-quickchart {\n",
              "      --bg-color: #3B4455;\n",
              "      --fill-color: #D2E3FC;\n",
              "      --hover-bg-color: #434B5C;\n",
              "      --hover-fill-color: #FFFFFF;\n",
              "      --disabled-bg-color: #3B4455;\n",
              "      --disabled-fill-color: #666;\n",
              "  }\n",
              "\n",
              "  .colab-df-quickchart {\n",
              "    background-color: var(--bg-color);\n",
              "    border: none;\n",
              "    border-radius: 50%;\n",
              "    cursor: pointer;\n",
              "    display: none;\n",
              "    fill: var(--fill-color);\n",
              "    height: 32px;\n",
              "    padding: 0;\n",
              "    width: 32px;\n",
              "  }\n",
              "\n",
              "  .colab-df-quickchart:hover {\n",
              "    background-color: var(--hover-bg-color);\n",
              "    box-shadow: 0 1px 2px rgba(60, 64, 67, 0.3), 0 1px 3px 1px rgba(60, 64, 67, 0.15);\n",
              "    fill: var(--button-hover-fill-color);\n",
              "  }\n",
              "\n",
              "  .colab-df-quickchart-complete:disabled,\n",
              "  .colab-df-quickchart-complete:disabled:hover {\n",
              "    background-color: var(--disabled-bg-color);\n",
              "    fill: var(--disabled-fill-color);\n",
              "    box-shadow: none;\n",
              "  }\n",
              "\n",
              "  .colab-df-spinner {\n",
              "    border: 2px solid var(--fill-color);\n",
              "    border-color: transparent;\n",
              "    border-bottom-color: var(--fill-color);\n",
              "    animation:\n",
              "      spin 1s steps(1) infinite;\n",
              "  }\n",
              "\n",
              "  @keyframes spin {\n",
              "    0% {\n",
              "      border-color: transparent;\n",
              "      border-bottom-color: var(--fill-color);\n",
              "      border-left-color: var(--fill-color);\n",
              "    }\n",
              "    20% {\n",
              "      border-color: transparent;\n",
              "      border-left-color: var(--fill-color);\n",
              "      border-top-color: var(--fill-color);\n",
              "    }\n",
              "    30% {\n",
              "      border-color: transparent;\n",
              "      border-left-color: var(--fill-color);\n",
              "      border-top-color: var(--fill-color);\n",
              "      border-right-color: var(--fill-color);\n",
              "    }\n",
              "    40% {\n",
              "      border-color: transparent;\n",
              "      border-right-color: var(--fill-color);\n",
              "      border-top-color: var(--fill-color);\n",
              "    }\n",
              "    60% {\n",
              "      border-color: transparent;\n",
              "      border-right-color: var(--fill-color);\n",
              "    }\n",
              "    80% {\n",
              "      border-color: transparent;\n",
              "      border-right-color: var(--fill-color);\n",
              "      border-bottom-color: var(--fill-color);\n",
              "    }\n",
              "    90% {\n",
              "      border-color: transparent;\n",
              "      border-bottom-color: var(--fill-color);\n",
              "    }\n",
              "  }\n",
              "</style>\n",
              "\n",
              "  <script>\n",
              "    async function quickchart(key) {\n",
              "      const quickchartButtonEl =\n",
              "        document.querySelector('#' + key + ' button');\n",
              "      quickchartButtonEl.disabled = true;  // To prevent multiple clicks.\n",
              "      quickchartButtonEl.classList.add('colab-df-spinner');\n",
              "      try {\n",
              "        const charts = await google.colab.kernel.invokeFunction(\n",
              "            'suggestCharts', [key], {});\n",
              "      } catch (error) {\n",
              "        console.error('Error during call to suggestCharts:', error);\n",
              "      }\n",
              "      quickchartButtonEl.classList.remove('colab-df-spinner');\n",
              "      quickchartButtonEl.classList.add('colab-df-quickchart-complete');\n",
              "    }\n",
              "    (() => {\n",
              "      let quickchartButtonEl =\n",
              "        document.querySelector('#df-62177d8e-39ad-4e01-864b-985e5885504b button');\n",
              "      quickchartButtonEl.style.display =\n",
              "        google.colab.kernel.accessAllowed ? 'block' : 'none';\n",
              "    })();\n",
              "  </script>\n",
              "</div>\n",
              "\n",
              "  <div id=\"id_aa0b6cb6-71c3-4f7d-9375-fdba9c77c4ec\">\n",
              "    <style>\n",
              "      .colab-df-generate {\n",
              "        background-color: #E8F0FE;\n",
              "        border: none;\n",
              "        border-radius: 50%;\n",
              "        cursor: pointer;\n",
              "        display: none;\n",
              "        fill: #1967D2;\n",
              "        height: 32px;\n",
              "        padding: 0 0 0 0;\n",
              "        width: 32px;\n",
              "      }\n",
              "\n",
              "      .colab-df-generate:hover {\n",
              "        background-color: #E2EBFA;\n",
              "        box-shadow: 0px 1px 2px rgba(60, 64, 67, 0.3), 0px 1px 3px 1px rgba(60, 64, 67, 0.15);\n",
              "        fill: #174EA6;\n",
              "      }\n",
              "\n",
              "      [theme=dark] .colab-df-generate {\n",
              "        background-color: #3B4455;\n",
              "        fill: #D2E3FC;\n",
              "      }\n",
              "\n",
              "      [theme=dark] .colab-df-generate:hover {\n",
              "        background-color: #434B5C;\n",
              "        box-shadow: 0px 1px 3px 1px rgba(0, 0, 0, 0.15);\n",
              "        filter: drop-shadow(0px 1px 2px rgba(0, 0, 0, 0.3));\n",
              "        fill: #FFFFFF;\n",
              "      }\n",
              "    </style>\n",
              "    <button class=\"colab-df-generate\" onclick=\"generateWithVariable('df')\"\n",
              "            title=\"Generate code using this dataframe.\"\n",
              "            style=\"display:none;\">\n",
              "\n",
              "  <svg xmlns=\"http://www.w3.org/2000/svg\" height=\"24px\"viewBox=\"0 0 24 24\"\n",
              "       width=\"24px\">\n",
              "    <path d=\"M7,19H8.4L18.45,9,17,7.55,7,17.6ZM5,21V16.75L18.45,3.32a2,2,0,0,1,2.83,0l1.4,1.43a1.91,1.91,0,0,1,.58,1.4,1.91,1.91,0,0,1-.58,1.4L9.25,21ZM18.45,9,17,7.55Zm-12,3A5.31,5.31,0,0,0,4.9,8.1,5.31,5.31,0,0,0,1,6.5,5.31,5.31,0,0,0,4.9,4.9,5.31,5.31,0,0,0,6.5,1,5.31,5.31,0,0,0,8.1,4.9,5.31,5.31,0,0,0,12,6.5,5.46,5.46,0,0,0,6.5,12Z\"/>\n",
              "  </svg>\n",
              "    </button>\n",
              "    <script>\n",
              "      (() => {\n",
              "      const buttonEl =\n",
              "        document.querySelector('#id_aa0b6cb6-71c3-4f7d-9375-fdba9c77c4ec button.colab-df-generate');\n",
              "      buttonEl.style.display =\n",
              "        google.colab.kernel.accessAllowed ? 'block' : 'none';\n",
              "\n",
              "      buttonEl.onclick = () => {\n",
              "        google.colab.notebook.generateWithVariable('df');\n",
              "      }\n",
              "      })();\n",
              "    </script>\n",
              "  </div>\n",
              "\n",
              "    </div>\n",
              "  </div>\n"
            ],
            "application/vnd.google.colaboratory.intrinsic+json": {
              "type": "dataframe",
              "variable_name": "df",
              "summary": "{\n  \"name\": \"df\",\n  \"rows\": 891,\n  \"fields\": [\n    {\n      \"column\": \"survived\",\n      \"properties\": {\n        \"dtype\": \"number\",\n        \"std\": 0,\n        \"min\": 0,\n        \"max\": 1,\n        \"num_unique_values\": 2,\n        \"samples\": [\n          1,\n          0\n        ],\n        \"semantic_type\": \"\",\n        \"description\": \"\"\n      }\n    },\n    {\n      \"column\": \"pclass\",\n      \"properties\": {\n        \"dtype\": \"number\",\n        \"std\": 0,\n        \"min\": 1,\n        \"max\": 3,\n        \"num_unique_values\": 3,\n        \"samples\": [\n          3,\n          1\n        ],\n        \"semantic_type\": \"\",\n        \"description\": \"\"\n      }\n    },\n    {\n      \"column\": \"sex\",\n      \"properties\": {\n        \"dtype\": \"category\",\n        \"num_unique_values\": 2,\n        \"samples\": [\n          \"female\",\n          \"male\"\n        ],\n        \"semantic_type\": \"\",\n        \"description\": \"\"\n      }\n    },\n    {\n      \"column\": \"age\",\n      \"properties\": {\n        \"dtype\": \"number\",\n        \"std\": 14.526497332334042,\n        \"min\": 0.42,\n        \"max\": 80.0,\n        \"num_unique_values\": 88,\n        \"samples\": [\n          0.75,\n          22.0\n        ],\n        \"semantic_type\": \"\",\n        \"description\": \"\"\n      }\n    },\n    {\n      \"column\": \"sibsp\",\n      \"properties\": {\n        \"dtype\": \"number\",\n        \"std\": 1,\n        \"min\": 0,\n        \"max\": 8,\n        \"num_unique_values\": 7,\n        \"samples\": [\n          1,\n          0\n        ],\n        \"semantic_type\": \"\",\n        \"description\": \"\"\n      }\n    },\n    {\n      \"column\": \"parch\",\n      \"properties\": {\n        \"dtype\": \"number\",\n        \"std\": 0,\n        \"min\": 0,\n        \"max\": 6,\n        \"num_unique_values\": 7,\n        \"samples\": [\n          0,\n          1\n        ],\n        \"semantic_type\": \"\",\n        \"description\": \"\"\n      }\n    },\n    {\n      \"column\": \"fare\",\n      \"properties\": {\n        \"dtype\": \"number\",\n        \"std\": 49.6934285971809,\n        \"min\": 0.0,\n        \"max\": 512.3292,\n        \"num_unique_values\": 248,\n        \"samples\": [\n          11.2417,\n          51.8625\n        ],\n        \"semantic_type\": \"\",\n        \"description\": \"\"\n      }\n    },\n    {\n      \"column\": \"embarked\",\n      \"properties\": {\n        \"dtype\": \"category\",\n        \"num_unique_values\": 3,\n        \"samples\": [\n          \"S\",\n          \"C\"\n        ],\n        \"semantic_type\": \"\",\n        \"description\": \"\"\n      }\n    },\n    {\n      \"column\": \"class\",\n      \"properties\": {\n        \"dtype\": \"category\",\n        \"num_unique_values\": 3,\n        \"samples\": [\n          \"Third\",\n          \"First\"\n        ],\n        \"semantic_type\": \"\",\n        \"description\": \"\"\n      }\n    },\n    {\n      \"column\": \"who\",\n      \"properties\": {\n        \"dtype\": \"category\",\n        \"num_unique_values\": 3,\n        \"samples\": [\n          \"man\",\n          \"woman\"\n        ],\n        \"semantic_type\": \"\",\n        \"description\": \"\"\n      }\n    },\n    {\n      \"column\": \"adult_male\",\n      \"properties\": {\n        \"dtype\": \"boolean\",\n        \"num_unique_values\": 2,\n        \"samples\": [\n          false,\n          true\n        ],\n        \"semantic_type\": \"\",\n        \"description\": \"\"\n      }\n    },\n    {\n      \"column\": \"deck\",\n      \"properties\": {\n        \"dtype\": \"category\",\n        \"num_unique_values\": 7,\n        \"samples\": [\n          \"C\",\n          \"E\"\n        ],\n        \"semantic_type\": \"\",\n        \"description\": \"\"\n      }\n    },\n    {\n      \"column\": \"embark_town\",\n      \"properties\": {\n        \"dtype\": \"category\",\n        \"num_unique_values\": 3,\n        \"samples\": [\n          \"Southampton\",\n          \"Cherbourg\"\n        ],\n        \"semantic_type\": \"\",\n        \"description\": \"\"\n      }\n    },\n    {\n      \"column\": \"alive\",\n      \"properties\": {\n        \"dtype\": \"category\",\n        \"num_unique_values\": 2,\n        \"samples\": [\n          \"yes\",\n          \"no\"\n        ],\n        \"semantic_type\": \"\",\n        \"description\": \"\"\n      }\n    },\n    {\n      \"column\": \"alone\",\n      \"properties\": {\n        \"dtype\": \"boolean\",\n        \"num_unique_values\": 2,\n        \"samples\": [\n          true,\n          false\n        ],\n        \"semantic_type\": \"\",\n        \"description\": \"\"\n      }\n    }\n  ]\n}"
            }
          },
          "metadata": {},
          "execution_count": 12
        }
      ]
    },
    {
      "cell_type": "code",
      "source": [
        "# Checking the null values\n",
        "df.isnull().sum()"
      ],
      "metadata": {
        "colab": {
          "base_uri": "https://localhost:8080/",
          "height": 554
        },
        "id": "GWGOlEzK7ysf",
        "outputId": "923397cb-c117-4137-edce-40219a72fda0"
      },
      "execution_count": null,
      "outputs": [
        {
          "output_type": "execute_result",
          "data": {
            "text/plain": [
              "survived         0\n",
              "pclass           0\n",
              "sex              0\n",
              "age            177\n",
              "sibsp            0\n",
              "parch            0\n",
              "fare             0\n",
              "embarked         2\n",
              "class            0\n",
              "who              0\n",
              "adult_male       0\n",
              "deck           688\n",
              "embark_town      2\n",
              "alive            0\n",
              "alone            0\n",
              "dtype: int64"
            ],
            "text/html": [
              "<table border=\"1\" class=\"dataframe\">\n",
              "  <thead>\n",
              "    <tr style=\"text-align: right;\">\n",
              "      <th></th>\n",
              "      <th>0</th>\n",
              "    </tr>\n",
              "  </thead>\n",
              "  <tbody>\n",
              "    <tr>\n",
              "      <th>survived</th>\n",
              "      <td>0</td>\n",
              "    </tr>\n",
              "    <tr>\n",
              "      <th>pclass</th>\n",
              "      <td>0</td>\n",
              "    </tr>\n",
              "    <tr>\n",
              "      <th>sex</th>\n",
              "      <td>0</td>\n",
              "    </tr>\n",
              "    <tr>\n",
              "      <th>age</th>\n",
              "      <td>177</td>\n",
              "    </tr>\n",
              "    <tr>\n",
              "      <th>sibsp</th>\n",
              "      <td>0</td>\n",
              "    </tr>\n",
              "    <tr>\n",
              "      <th>parch</th>\n",
              "      <td>0</td>\n",
              "    </tr>\n",
              "    <tr>\n",
              "      <th>fare</th>\n",
              "      <td>0</td>\n",
              "    </tr>\n",
              "    <tr>\n",
              "      <th>embarked</th>\n",
              "      <td>2</td>\n",
              "    </tr>\n",
              "    <tr>\n",
              "      <th>class</th>\n",
              "      <td>0</td>\n",
              "    </tr>\n",
              "    <tr>\n",
              "      <th>who</th>\n",
              "      <td>0</td>\n",
              "    </tr>\n",
              "    <tr>\n",
              "      <th>adult_male</th>\n",
              "      <td>0</td>\n",
              "    </tr>\n",
              "    <tr>\n",
              "      <th>deck</th>\n",
              "      <td>688</td>\n",
              "    </tr>\n",
              "    <tr>\n",
              "      <th>embark_town</th>\n",
              "      <td>2</td>\n",
              "    </tr>\n",
              "    <tr>\n",
              "      <th>alive</th>\n",
              "      <td>0</td>\n",
              "    </tr>\n",
              "    <tr>\n",
              "      <th>alone</th>\n",
              "      <td>0</td>\n",
              "    </tr>\n",
              "  </tbody>\n",
              "</table><br><label><b>dtype:</b> int64</label>"
            ]
          },
          "metadata": {},
          "execution_count": 3
        }
      ]
    },
    {
      "cell_type": "code",
      "source": [
        "# Checking total inormation about data\n",
        "df.info()"
      ],
      "metadata": {
        "colab": {
          "base_uri": "https://localhost:8080/"
        },
        "id": "4RnEd-nu7_2R",
        "outputId": "158caea9-6bc5-4c04-bf76-a1c2cf8684e5"
      },
      "execution_count": null,
      "outputs": [
        {
          "output_type": "stream",
          "name": "stdout",
          "text": [
            "<class 'pandas.core.frame.DataFrame'>\n",
            "RangeIndex: 891 entries, 0 to 890\n",
            "Data columns (total 15 columns):\n",
            " #   Column       Non-Null Count  Dtype   \n",
            "---  ------       --------------  -----   \n",
            " 0   survived     891 non-null    int64   \n",
            " 1   pclass       891 non-null    int64   \n",
            " 2   sex          891 non-null    object  \n",
            " 3   age          714 non-null    float64 \n",
            " 4   sibsp        891 non-null    int64   \n",
            " 5   parch        891 non-null    int64   \n",
            " 6   fare         891 non-null    float64 \n",
            " 7   embarked     889 non-null    object  \n",
            " 8   class        891 non-null    category\n",
            " 9   who          891 non-null    object  \n",
            " 10  adult_male   891 non-null    bool    \n",
            " 11  deck         203 non-null    category\n",
            " 12  embark_town  889 non-null    object  \n",
            " 13  alive        891 non-null    object  \n",
            " 14  alone        891 non-null    bool    \n",
            "dtypes: bool(2), category(2), float64(2), int64(4), object(5)\n",
            "memory usage: 80.7+ KB\n"
          ]
        }
      ]
    },
    {
      "cell_type": "code",
      "source": [
        "# Replacing null values of age with zero\n",
        "df[\"age\"].fillna(0, inplace = True)"
      ],
      "metadata": {
        "id": "NKaqSD768S8t"
      },
      "execution_count": null,
      "outputs": []
    },
    {
      "cell_type": "code",
      "source": [
        "# After replacing values checking for null values\n",
        "df.isnull().sum()"
      ],
      "metadata": {
        "colab": {
          "base_uri": "https://localhost:8080/",
          "height": 554
        },
        "id": "kqO5XUJdJ3TF",
        "outputId": "3122b9bc-a58a-4206-cde6-6520d9a4e3a8"
      },
      "execution_count": null,
      "outputs": [
        {
          "output_type": "execute_result",
          "data": {
            "text/plain": [
              "survived         0\n",
              "pclass           0\n",
              "sex              0\n",
              "age              0\n",
              "sibsp            0\n",
              "parch            0\n",
              "fare             0\n",
              "embarked         0\n",
              "class            0\n",
              "who              0\n",
              "adult_male       0\n",
              "deck           688\n",
              "embark_town      2\n",
              "alive            0\n",
              "alone            0\n",
              "dtype: int64"
            ],
            "text/html": [
              "<table border=\"1\" class=\"dataframe\">\n",
              "  <thead>\n",
              "    <tr style=\"text-align: right;\">\n",
              "      <th></th>\n",
              "      <th>0</th>\n",
              "    </tr>\n",
              "  </thead>\n",
              "  <tbody>\n",
              "    <tr>\n",
              "      <th>survived</th>\n",
              "      <td>0</td>\n",
              "    </tr>\n",
              "    <tr>\n",
              "      <th>pclass</th>\n",
              "      <td>0</td>\n",
              "    </tr>\n",
              "    <tr>\n",
              "      <th>sex</th>\n",
              "      <td>0</td>\n",
              "    </tr>\n",
              "    <tr>\n",
              "      <th>age</th>\n",
              "      <td>0</td>\n",
              "    </tr>\n",
              "    <tr>\n",
              "      <th>sibsp</th>\n",
              "      <td>0</td>\n",
              "    </tr>\n",
              "    <tr>\n",
              "      <th>parch</th>\n",
              "      <td>0</td>\n",
              "    </tr>\n",
              "    <tr>\n",
              "      <th>fare</th>\n",
              "      <td>0</td>\n",
              "    </tr>\n",
              "    <tr>\n",
              "      <th>embarked</th>\n",
              "      <td>0</td>\n",
              "    </tr>\n",
              "    <tr>\n",
              "      <th>class</th>\n",
              "      <td>0</td>\n",
              "    </tr>\n",
              "    <tr>\n",
              "      <th>who</th>\n",
              "      <td>0</td>\n",
              "    </tr>\n",
              "    <tr>\n",
              "      <th>adult_male</th>\n",
              "      <td>0</td>\n",
              "    </tr>\n",
              "    <tr>\n",
              "      <th>deck</th>\n",
              "      <td>688</td>\n",
              "    </tr>\n",
              "    <tr>\n",
              "      <th>embark_town</th>\n",
              "      <td>2</td>\n",
              "    </tr>\n",
              "    <tr>\n",
              "      <th>alive</th>\n",
              "      <td>0</td>\n",
              "    </tr>\n",
              "    <tr>\n",
              "      <th>alone</th>\n",
              "      <td>0</td>\n",
              "    </tr>\n",
              "  </tbody>\n",
              "</table><br><label><b>dtype:</b> int64</label>"
            ]
          },
          "metadata": {},
          "execution_count": 64
        }
      ]
    },
    {
      "cell_type": "code",
      "source": [
        "# age group distribution where 0 means missing age details in dataset was replaced with 0\n",
        "filtered_df = df[df[\"age\"] != 0]\n",
        "filtered_df\n",
        "sns.histplot(filtered_df[\"age\"], bins=61, kde = True)"
      ],
      "metadata": {
        "colab": {
          "base_uri": "https://localhost:8080/",
          "height": 475
        },
        "id": "XoD6JOqSWZ8_",
        "outputId": "39713bdf-3526-4254-91c3-be4eef23be2f"
      },
      "execution_count": null,
      "outputs": [
        {
          "output_type": "execute_result",
          "data": {
            "text/plain": [
              "<Axes: xlabel='age', ylabel='Count'>"
            ]
          },
          "metadata": {},
          "execution_count": 110
        },
        {
          "output_type": "display_data",
          "data": {
            "text/plain": [
              "<Figure size 640x480 with 1 Axes>"
            ],
            "image/png": "[encoded data removed]"
          },
          "metadata": {}
        }
      ]
    },
    {
      "cell_type": "code",
      "source": [
        "# Shows realtion between variable\n",
        "sns.scatterplot(x= \"survived\",y=\"age\",hue=\"sex\",data= df)"
      ],
      "metadata": {
        "colab": {
          "base_uri": "https://localhost:8080/",
          "height": 475
        },
        "id": "6YyD9VkODRqf",
        "outputId": "98deab5d-5264-47c9-b1d0-ff8b45500455"
      },
      "execution_count": null,
      "outputs": [
        {
          "output_type": "execute_result",
          "data": {
            "text/plain": [
              "<Axes: xlabel='survived', ylabel='age'>"
            ]
          },
          "metadata": {},
          "execution_count": 79
        },
        {
          "output_type": "display_data",
          "data": {
            "text/plain": [
              "<Figure size 640x480 with 1 Axes>"
            ],
            "image/png": "[encoded data removed]"
          },
          "metadata": {}
        }
      ]
    },
    {
      "cell_type": "code",
      "source": [
        "# Using One-Hot Encoding to convert categories to numerical\n",
        "encoded_x = pd.get_dummies(df,columns = [\"sex\",\"age\"])"
      ],
      "metadata": {
        "id": "Q8esa__NTdO7"
      },
      "execution_count": null,
      "outputs": []
    },
    {
      "cell_type": "code",
      "source": [
        "# Extended columns\n",
        "encoded_x.columns"
      ],
      "metadata": {
        "colab": {
          "base_uri": "https://localhost:8080/"
        },
        "id": "MrE6nhaRVgD_",
        "outputId": "2e047ad8-94d8-44ac-9c94-9490f285aa1e"
      },
      "execution_count": null,
      "outputs": [
        {
          "output_type": "execute_result",
          "data": {
            "text/plain": [
              "Index(['survived', 'pclass', 'sibsp', 'parch', 'fare', 'embarked', 'class',\n",
              "       'who', 'adult_male', 'deck',\n",
              "       ...\n",
              "       'age_62.0', 'age_63.0', 'age_64.0', 'age_65.0', 'age_66.0', 'age_70.0',\n",
              "       'age_70.5', 'age_71.0', 'age_74.0', 'age_80.0'],\n",
              "      dtype='object', length=104)"
            ]
          },
          "metadata": {},
          "execution_count": 92
        }
      ]
    },
    {
      "cell_type": "code",
      "source": [
        "# Dropping columns not required for features\n",
        "x = encoded_x.drop(['survived', 'pclass', 'sibsp', 'parch', 'fare', 'embarked', 'class','who', 'adult_male', 'deck','embark_town','alive','alone'], axis = 1)"
      ],
      "metadata": {
        "id": "DtOYpQGaUJ1R"
      },
      "execution_count": null,
      "outputs": []
    },
    {
      "cell_type": "code",
      "source": [
        "# Using Survived column as Target variable\n",
        "y= df[\"survived\"]"
      ],
      "metadata": {
        "id": "uCw490JnGVTa"
      },
      "execution_count": null,
      "outputs": []
    },
    {
      "cell_type": "code",
      "source": [
        "# Splitting data to Train Test Split into 80:20 ratio\n",
        "# Checking Shape\n",
        "x_train,x_test,y_train,y_test = train_test_split(x,y,test_size = 0.2, random_state = 61)\n",
        "print(x_test.shape,x_train.shape,y_test.shape,y_train.shape)"
      ],
      "metadata": {
        "colab": {
          "base_uri": "https://localhost:8080/"
        },
        "id": "66P27_bWM8Cn",
        "outputId": "716603f4-63bf-4b92-da44-8959d72376d5"
      },
      "execution_count": null,
      "outputs": [
        {
          "output_type": "stream",
          "name": "stdout",
          "text": [
            "(179, 91) (712, 91) (179,) (712,)\n"
          ]
        }
      ]
    },
    {
      "cell_type": "code",
      "source": [
        "# Calulating train values\n",
        "y_train.value_counts()"
      ],
      "metadata": {
        "colab": {
          "base_uri": "https://localhost:8080/",
          "height": 178
        },
        "id": "Plc7byWGNkCa",
        "outputId": "91dd396c-72d2-46ae-ba7b-20a86e3ac6aa"
      },
      "execution_count": null,
      "outputs": [
        {
          "output_type": "execute_result",
          "data": {
            "text/plain": [
              "survived\n",
              "0    432\n",
              "1    280\n",
              "Name: count, dtype: int64"
            ],
            "text/html": [
              "<table border=\"1\" class=\"dataframe\">\n",
              "  <thead>\n",
              "    <tr style=\"text-align: right;\">\n",
              "      <th></th>\n",
              "      <th>count</th>\n",
              "    </tr>\n",
              "    <tr>\n",
              "      <th>survived</th>\n",
              "      <th></th>\n",
              "    </tr>\n",
              "  </thead>\n",
              "  <tbody>\n",
              "    <tr>\n",
              "      <th>0</th>\n",
              "      <td>432</td>\n",
              "    </tr>\n",
              "    <tr>\n",
              "      <th>1</th>\n",
              "      <td>280</td>\n",
              "    </tr>\n",
              "  </tbody>\n",
              "</table><br><label><b>dtype:</b> int64</label>"
            ]
          },
          "metadata": {},
          "execution_count": 114
        }
      ]
    },
    {
      "cell_type": "code",
      "source": [
        "# Calulating test values\n",
        "y_test.value_counts()"
      ],
      "metadata": {
        "colab": {
          "base_uri": "https://localhost:8080/",
          "height": 178
        },
        "id": "ZtXb6YGhN6O3",
        "outputId": "fa6988cf-e935-49ff-e4c9-309682dda2d6"
      },
      "execution_count": null,
      "outputs": [
        {
          "output_type": "execute_result",
          "data": {
            "text/plain": [
              "survived\n",
              "0    117\n",
              "1     62\n",
              "Name: count, dtype: int64"
            ],
            "text/html": [
              "<table border=\"1\" class=\"dataframe\">\n",
              "  <thead>\n",
              "    <tr style=\"text-align: right;\">\n",
              "      <th></th>\n",
              "      <th>count</th>\n",
              "    </tr>\n",
              "    <tr>\n",
              "      <th>survived</th>\n",
              "      <th></th>\n",
              "    </tr>\n",
              "  </thead>\n",
              "  <tbody>\n",
              "    <tr>\n",
              "      <th>0</th>\n",
              "      <td>117</td>\n",
              "    </tr>\n",
              "    <tr>\n",
              "      <th>1</th>\n",
              "      <td>62</td>\n",
              "    </tr>\n",
              "  </tbody>\n",
              "</table><br><label><b>dtype:</b> int64</label>"
            ]
          },
          "metadata": {},
          "execution_count": 115
        }
      ]
    },
    {
      "cell_type": "code",
      "source": [
        "# Creating Logistic Model\n",
        "model = LogisticRegression()"
      ],
      "metadata": {
        "id": "UqgrOZTIQi2s"
      },
      "execution_count": null,
      "outputs": []
    },
    {
      "cell_type": "code",
      "source": [
        "# Fitting Model\n",
        "model.fit(x_train,y_train)"
      ],
      "metadata": {
        "colab": {
          "base_uri": "https://localhost:8080/",
          "height": 75
        },
        "id": "XTuJH8ELSXZG",
        "outputId": "4052b019-8532-427d-a955-544e2c90b3e1"
      },
      "execution_count": null,
      "outputs": [
        {
          "output_type": "execute_result",
          "data": {
            "text/plain": [
              "LogisticRegression()"
            ],
            "text/html": [
              "<style>#sk-container-id-1 {color: black;}#sk-container-id-1 pre{padding: 0;}#sk-container-id-1 div.sk-toggleable {background-color: white;}#sk-container-id-1 label.sk-toggleable__label {cursor: pointer;display: block;width: 100%;margin-bottom: 0;padding: 0.3em;box-sizing: border-box;text-align: center;}#sk-container-id-1 label.sk-toggleable__label-arrow:before {content: \"▸\";float: left;margin-right: 0.25em;color: #696969;}#sk-container-id-1 label.sk-toggleable__label-arrow:hover:before {color: black;}#sk-container-id-1 div.sk-estimator:hover label.sk-toggleable__label-arrow:before {color: black;}#sk-container-id-1 div.sk-toggleable__content {max-height: 0;max-width: 0;overflow: hidden;text-align: left;background-color: #f0f8ff;}#sk-container-id-1 div.sk-toggleable__content pre {margin: 0.2em;color: black;border-radius: 0.25em;background-color: #f0f8ff;}#sk-container-id-1 input.sk-toggleable__control:checked~div.sk-toggleable__content {max-height: 200px;max-width: 100%;overflow: auto;}#sk-container-id-1 input.sk-toggleable__control:checked~label.sk-toggleable__label-arrow:before {content: \"▾\";}#sk-container-id-1 div.sk-estimator input.sk-toggleable__control:checked~label.sk-toggleable__label {background-color: #d4ebff;}#sk-container-id-1 div.sk-label input.sk-toggleable__control:checked~label.sk-toggleable__label {background-color: #d4ebff;}#sk-container-id-1 input.sk-hidden--visually {border: 0;clip: rect(1px 1px 1px 1px);clip: rect(1px, 1px, 1px, 1px);height: 1px;margin: -1px;overflow: hidden;padding: 0;position: absolute;width: 1px;}#sk-container-id-1 div.sk-estimator {font-family: monospace;background-color: #f0f8ff;border: 1px dotted black;border-radius: 0.25em;box-sizing: border-box;margin-bottom: 0.5em;}#sk-container-id-1 div.sk-estimator:hover {background-color: #d4ebff;}#sk-container-id-1 div.sk-parallel-item::after {content: \"\";width: 100%;border-bottom: 1px solid gray;flex-grow: 1;}#sk-container-id-1 div.sk-label:hover label.sk-toggleable__label {background-color: #d4ebff;}#sk-container-id-1 div.sk-serial::before {content: \"\";position: absolute;border-left: 1px solid gray;box-sizing: border-box;top: 0;bottom: 0;left: 50%;z-index: 0;}#sk-container-id-1 div.sk-serial {display: flex;flex-direction: column;align-items: center;background-color: white;padding-right: 0.2em;padding-left: 0.2em;position: relative;}#sk-container-id-1 div.sk-item {position: relative;z-index: 1;}#sk-container-id-1 div.sk-parallel {display: flex;align-items: stretch;justify-content: center;background-color: white;position: relative;}#sk-container-id-1 div.sk-item::before, #sk-container-id-1 div.sk-parallel-item::before {content: \"\";position: absolute;border-left: 1px solid gray;box-sizing: border-box;top: 0;bottom: 0;left: 50%;z-index: -1;}#sk-container-id-1 div.sk-parallel-item {display: flex;flex-direction: column;z-index: 1;position: relative;background-color: white;}#sk-container-id-1 div.sk-parallel-item:first-child::after {align-self: flex-end;width: 50%;}#sk-container-id-1 div.sk-parallel-item:last-child::after {align-self: flex-start;width: 50%;}#sk-container-id-1 div.sk-parallel-item:only-child::after {width: 0;}#sk-container-id-1 div.sk-dashed-wrapped {border: 1px dashed gray;margin: 0 0.4em 0.5em 0.4em;box-sizing: border-box;padding-bottom: 0.4em;background-color: white;}#sk-container-id-1 div.sk-label label {font-family: monospace;font-weight: bold;display: inline-block;line-height: 1.2em;}#sk-container-id-1 div.sk-label-container {text-align: center;}#sk-container-id-1 div.sk-container {/* jupyter's `normalize.less` sets `[hidden] { display: none; }` but bootstrap.min.css set `[hidden] { display: none !important; }` so we also need the `!important` here to be able to override the default hidden behavior on the sphinx rendered scikit-learn.org. See: https://github.com/scikit-learn/scikit-learn/issues/21755 */display: inline-block !important;position: relative;}#sk-container-id-1 div.sk-text-repr-fallback {display: none;}</style><div id=\"sk-container-id-1\" class=\"sk-top-container\"><div class=\"sk-text-repr-fallback\"><pre>LogisticRegression()</pre><b>In a Jupyter environment, please rerun this cell to show the HTML representation or trust the notebook. <br />On GitHub, the HTML representation is unable to render, please try loading this page with nbviewer.org.</b></div><div class=\"sk-container\" hidden><div class=\"sk-item\"><div class=\"sk-estimator sk-toggleable\"><input class=\"sk-toggleable__control sk-hidden--visually\" id=\"sk-estimator-id-1\" type=\"checkbox\" checked><label for=\"sk-estimator-id-1\" class=\"sk-toggleable__label sk-toggleable__label-arrow\">LogisticRegression</label><div class=\"sk-toggleable__content\"><pre>LogisticRegression()</pre></div></div></div></div></div>"
            ]
          },
          "metadata": {},
          "execution_count": 117
        }
      ]
    },
    {
      "cell_type": "code",
      "source": [
        "# Predicting Model\n",
        "y_pred_test = model.predict(x_test)\n",
        "y_pred_train = model.predict(x_train)"
      ],
      "metadata": {
        "id": "2zasvHZIScs-"
      },
      "execution_count": null,
      "outputs": []
    },
    {
      "cell_type": "code",
      "source": [
        "# Checking probability model\n",
        "y_percent_test = model.predict_proba(x_test)\n",
        "y_percent_train = model.predict_proba(x_train)"
      ],
      "metadata": {
        "id": "EmpaWQHeZvBq"
      },
      "execution_count": null,
      "outputs": []
    },
    {
      "cell_type": "code",
      "source": [
        "#getting accuracy scores\n",
        "accuracy = accuracy_score(y_test,y_pred_test)\n",
        "accuracy"
      ],
      "metadata": {
        "colab": {
          "base_uri": "https://localhost:8080/"
        },
        "id": "9rEp-5zaadyl",
        "outputId": "bdbebace-f752-4c89-b014-e0482b781cda"
      },
      "execution_count": null,
      "outputs": [
        {
          "output_type": "execute_result",
          "data": {
            "text/plain": [
              "0.7877094972067039"
            ]
          },
          "metadata": {},
          "execution_count": 124
        }
      ]
    },
    {
      "cell_type": "code",
      "source": [
        "# Getting F1 score\n",
        "f1_test = f1_score(y_test,y_pred_test)\n",
        "f1_test\n"
      ],
      "metadata": {
        "colab": {
          "base_uri": "https://localhost:8080/"
        },
        "id": "Zk_sctI8bGph",
        "outputId": "ddc66272-fe2c-4fb5-d47a-cececee5d133"
      },
      "execution_count": null,
      "outputs": [
        {
          "output_type": "execute_result",
          "data": {
            "text/plain": [
              "0.7076923076923077"
            ]
          },
          "metadata": {},
          "execution_count": 127
        }
      ]
    },
    {
      "cell_type": "code",
      "source": [
        "# Getting Log Loss Value\n",
        "from sklearn.metrics import log_loss\n",
        "logloss = log_loss(y_test,y_percent_test)\n",
        "logloss"
      ],
      "metadata": {
        "colab": {
          "base_uri": "https://localhost:8080/"
        },
        "id": "4KHut5JxbkVH",
        "outputId": "f6bbc14b-dc47-44ad-b7d2-e1707eb44ef9"
      },
      "execution_count": null,
      "outputs": [
        {
          "output_type": "execute_result",
          "data": {
            "text/plain": [
              "0.5090424590164216"
            ]
          },
          "metadata": {},
          "execution_count": 129
        }
      ]
    },
    {
      "cell_type": "code",
      "source": [
        "# Creating Confusion Matrix\n",
        "cm = confusion_matrix(y_test, y_pred_test)\n",
        "sns.heatmap(cm,annot=True)\n",
        "plt.xlabel(\"Predicted\")\n",
        "plt.ylabel(\"Actual\")\n",
        "plt.show()"
      ],
      "metadata": {
        "colab": {
          "base_uri": "https://localhost:8080/",
          "height": 458
        },
        "id": "bdUPT1z6eR9n",
        "outputId": "fc9853f4-3478-4757-a182-ea24b86df96b"
      },
      "execution_count": null,
      "outputs": [
        {
          "output_type": "display_data",
          "data": {
            "text/plain": [
              "<Figure size 640x480 with 2 Axes>"
            ],
            "image/png": "[encoded data removed]"
          },
          "metadata": {}
        }
      ]
    },
    {
      "cell_type": "markdown",
      "source": [
        "# Conclusion"
      ],
      "metadata": {
        "id": "x2-Bd6LzaEa6"
      }
    },
    {
      "cell_type": "markdown",
      "source": [
        "* From this titanic dataset using logistic regression we have to specify Survival rate.\n",
        "\n",
        "*   I have compared relation between surival rate and features, it was found that sex and age is related.\n",
        "*   One- Hot Encoding is used in case of Age & Sex to convert categorical values into numerical values.\n",
        "* The accuracy score is 78% which means its prediction is so far acceptable.\n",
        "* The Type-1 error is 22 & Type-2 error is 16 which is False Negeative less fatal in case of survival rate, all this is plotted in confusion matrix.\n",
        "\n"
      ],
      "metadata": {
        "id": "tBKASSGeaGf7"
      }
    }
  ]
}